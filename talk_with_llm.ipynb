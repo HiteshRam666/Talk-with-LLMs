{
 "cells": [
  {
   "cell_type": "code",
   "execution_count": 2,
   "metadata": {},
   "outputs": [],
   "source": [
    "import langchain"
   ]
  },
  {
   "cell_type": "code",
   "execution_count": 3,
   "metadata": {},
   "outputs": [],
   "source": [
    "import os \n",
    "from dotenv import load_dotenv, find_dotenv \n",
    "_ = load_dotenv(find_dotenv()) \n",
    "openai_api_key = os.environ[\"OPENAI_API_KEY\"]"
   ]
  },
  {
   "cell_type": "markdown",
   "metadata": {},
   "source": [
    "### Completion model \n"
   ]
  },
  {
   "cell_type": "code",
   "execution_count": 15,
   "metadata": {},
   "outputs": [],
   "source": [
    "from langchain_openai import OpenAI\n",
    "\n",
    "llmModel = OpenAI() "
   ]
  },
  {
   "cell_type": "code",
   "execution_count": 8,
   "metadata": {},
   "outputs": [],
   "source": [
    "response = llmModel.invoke(\"Tell me fun fact about quantom computers\")"
   ]
  },
  {
   "cell_type": "code",
   "execution_count": 9,
   "metadata": {},
   "outputs": [
    {
     "name": "stdout",
     "output_type": "stream",
     "text": [
      "\n",
      "\n",
      "Quantum computers use qubits as their basic unit of information, which can exist in multiple states simultaneously, allowing for much faster and more complex calculations than traditional computers. This is known as superposition and is a key principle of quantum mechanics.\n"
     ]
    }
   ],
   "source": [
    "print(response)"
   ]
  },
  {
   "cell_type": "code",
   "execution_count": 10,
   "metadata": {},
   "outputs": [
    {
     "name": "stdout",
     "output_type": "stream",
     "text": [
      "\n",
      "\n",
      "One fun fact about quantum computers is that they rely on the principles of quantum mechanics, which allows them to perform calculations and solve problems at a much faster rate than traditional computers. This is because quantum bits, or qubits, can exist in multiple states simultaneously, allowing for parallel processing and more complex calculations."
     ]
    }
   ],
   "source": [
    "for chunk in llmModel.stream(\n",
    "    \"Tell me fun fact about quantum computers\"\n",
    "):\n",
    "    print(chunk, end = \"\", flush = True)"
   ]
  },
  {
   "cell_type": "code",
   "execution_count": 11,
   "metadata": {},
   "outputs": [],
   "source": [
    "creativellmModel = OpenAI(temperature=0.9)"
   ]
  },
  {
   "cell_type": "code",
   "execution_count": 12,
   "metadata": {},
   "outputs": [
    {
     "name": "stdout",
     "output_type": "stream",
     "text": [
      "\n",
      "\n",
      "Quantum computers use the principles of quantum mechanics to perform calculations, allowing them to solve certain problems much faster than classical computers. They rely on particles called quantum bits, or qubits, which can be in multiple states simultaneously, allowing for a vast number of parallel calculations to be performed at once. This makes them particularly useful for tasks such as cryptography and simulating complex systems, but they are still in the early stages of development and practical applications.\n"
     ]
    }
   ],
   "source": [
    "response = creativellmModel.invoke(\"Tell me fun fact about quantum computers\")\n",
    "print(response)"
   ]
  },
  {
   "cell_type": "code",
   "execution_count": 13,
   "metadata": {},
   "outputs": [],
   "source": [
    "response = creativellmModel.invoke(\n",
    "    \"Write a 5 line poem about quantum computers\"\n",
    ")"
   ]
  },
  {
   "cell_type": "code",
   "execution_count": 14,
   "metadata": {},
   "outputs": [
    {
     "name": "stdout",
     "output_type": "stream",
     "text": [
      "\n",
      "\n",
      "Quantum computers, a new frontier\n",
      "With qubits, they challenge our fear\n",
      "In parallel universes, they compute\n",
      "Solving complex problems, they astute\n",
      "The future of technology, resolute.\n"
     ]
    }
   ],
   "source": [
    "print(response)"
   ]
  },
  {
   "cell_type": "markdown",
   "metadata": {},
   "source": [
    "### Chat Model"
   ]
  },
  {
   "cell_type": "code",
   "execution_count": 17,
   "metadata": {},
   "outputs": [],
   "source": [
    "from langchain_openai import ChatOpenAI\n",
    "chatModel = ChatOpenAI(model = \"gpt-3.5-turbo-0125\")"
   ]
  },
  {
   "cell_type": "code",
   "execution_count": 18,
   "metadata": {},
   "outputs": [],
   "source": [
    "message = [\n",
    "    (\"system\", \"You are expert comedian.\"),\n",
    "    (\"human\", \"Tell me funny joke about computers\")\n",
    "]"
   ]
  },
  {
   "cell_type": "code",
   "execution_count": 19,
   "metadata": {},
   "outputs": [],
   "source": [
    "response = chatModel.invoke(message)"
   ]
  },
  {
   "cell_type": "code",
   "execution_count": 20,
   "metadata": {},
   "outputs": [
    {
     "name": "stdout",
     "output_type": "stream",
     "text": [
      "content='Why was the computer cold?\\n\\nBecause it left its Windows open!' response_metadata={'token_usage': {'completion_tokens': 13, 'prompt_tokens': 22, 'total_tokens': 35, 'completion_tokens_details': {'accepted_prediction_tokens': 0, 'audio_tokens': 0, 'reasoning_tokens': 0, 'rejected_prediction_tokens': 0}, 'prompt_tokens_details': {'audio_tokens': 0, 'cached_tokens': 0}}, 'model_name': 'gpt-3.5-turbo-0125', 'system_fingerprint': None, 'finish_reason': 'stop', 'logprobs': None} id='run-fc295619-0796-4f3d-9f3b-ccebc872faa1-0' usage_metadata={'input_tokens': 22, 'output_tokens': 13, 'total_tokens': 35}\n"
     ]
    }
   ],
   "source": [
    "print(response)"
   ]
  },
  {
   "cell_type": "code",
   "execution_count": 22,
   "metadata": {},
   "outputs": [
    {
     "name": "stdout",
     "output_type": "stream",
     "text": [
      "Why was the computer cold?\n",
      "\n",
      "Because it left its Windows open!\n"
     ]
    }
   ],
   "source": [
    "print(response.content)"
   ]
  },
  {
   "cell_type": "code",
   "execution_count": 23,
   "metadata": {},
   "outputs": [
    {
     "data": {
      "text/plain": [
       "{'token_usage': {'completion_tokens': 13,\n",
       "  'prompt_tokens': 22,\n",
       "  'total_tokens': 35,\n",
       "  'completion_tokens_details': {'accepted_prediction_tokens': 0,\n",
       "   'audio_tokens': 0,\n",
       "   'reasoning_tokens': 0,\n",
       "   'rejected_prediction_tokens': 0},\n",
       "  'prompt_tokens_details': {'audio_tokens': 0, 'cached_tokens': 0}},\n",
       " 'model_name': 'gpt-3.5-turbo-0125',\n",
       " 'system_fingerprint': None,\n",
       " 'finish_reason': 'stop',\n",
       " 'logprobs': None}"
      ]
     },
     "execution_count": 23,
     "metadata": {},
     "output_type": "execute_result"
    }
   ],
   "source": [
    "response.response_metadata"
   ]
  },
  {
   "cell_type": "code",
   "execution_count": 24,
   "metadata": {},
   "outputs": [],
   "source": [
    "## Using gpt-4\n",
    "llm = ChatOpenAI(model=\"gpt-4o-mini\")"
   ]
  },
  {
   "cell_type": "code",
   "execution_count": 25,
   "metadata": {},
   "outputs": [],
   "source": [
    "response = llm.invoke(\"Tell me funny fact about quantum computers\")"
   ]
  },
  {
   "cell_type": "code",
   "execution_count": 27,
   "metadata": {},
   "outputs": [
    {
     "name": "stdout",
     "output_type": "stream",
     "text": [
      "Sure! Here's a funny fact about quantum computers: they can exist in multiple states at once, which means they can be \"both working and not working\" at the same time. This is kind of like how you might feel on a Monday morning—you're both trying to be productive and also just want to stay in bed!\n"
     ]
    }
   ],
   "source": [
    "print(response.content)"
   ]
  },
  {
   "cell_type": "code",
   "execution_count": 29,
   "metadata": {},
   "outputs": [],
   "source": [
    "message = [\n",
    "    (\"system\", \"You're expert historian who have knowledge of computers\"), \n",
    "    (\"human\", \"Tell me history about quantum computers, how it was discovered\")\n",
    "]\n",
    "response = llm.invoke(message)"
   ]
  },
  {
   "cell_type": "code",
   "execution_count": 31,
   "metadata": {},
   "outputs": [
    {
     "name": "stdout",
     "output_type": "stream",
     "text": [
      "Quantum computing is a fascinating intersection of physics and computer science, with its roots tracing back to the early developments in quantum mechanics in the 20th century. Here’s an overview of the key milestones in the history of quantum computing:\n",
      "\n",
      "### 1. Foundations of Quantum Mechanics (Early 20th Century)\n",
      "Quantum mechanics emerged in the early 20th century with pivotal contributions from scientists like Max Planck, Albert Einstein, Niels Bohr, and Werner Heisenberg. They introduced concepts such as quantization of energy, wave-particle duality, and the uncertainty principle, which laid the groundwork for understanding the behavior of particles at the quantum level.\n",
      "\n",
      "### 2. Theoretical Beginnings (1980s)\n",
      "The idea of quantum computing began to take shape in the 1980s, primarily through the work of physicists and computer scientists:\n",
      "\n",
      "- **Richard Feynman (1981)**: Feynman proposed that classical computers could not efficiently simulate quantum systems. He suggested that a new type of computer, based on quantum mechanics, could perform calculations that classical computers could not.\n",
      "  \n",
      "- **David Deutsch (1985)**: Deutsch, a physicist at the University of Oxford, formalized the concept of a quantum computer. He introduced the idea of a quantum Turing machine, which could theoretically compute anything that a classical Turing machine could, but would leverage quantum superposition and entanglement to enhance computational power.\n",
      "\n",
      "### 3. Quantum Algorithms (1990s)\n",
      "The 1990s saw significant advancements in quantum algorithms, which demonstrated the potential advantages of quantum computation:\n",
      "\n",
      "- **Peter Shor (1994)**: Shor developed a polynomial-time quantum algorithm for factoring large integers, which could potentially break widely used encryption schemes like RSA. This discovery sparked interest in quantum computing for its implications in cryptography.\n",
      "\n",
      "- **Lov Grover (1996)**: Grover introduced an algorithm that could search unsorted databases quadratically faster than any classical algorithm. This further illustrated the speedup potential of quantum algorithms.\n",
      "\n",
      "### 4. Experimental Developments (Late 1990s - 2000s)\n",
      "As theoretical work progressed, researchers began to explore practical implementations of quantum computing:\n",
      "\n",
      "- **First Quantum Bits (Qubits)**: The late 1990s and early 2000s saw the development of physical qubits using various technologies, including trapped ions, superconducting circuits, and photons. The first experimental demonstration of quantum algorithms was achieved with small-scale quantum systems.\n",
      "\n",
      "- **Quantum Error Correction**: Researchers, including Peter Shor and others, developed quantum error correction methods, which are crucial for maintaining the integrity of quantum information in the presence of noise and decoherence.\n",
      "\n",
      "### 5. Scaling Up (2010s)\n",
      "The 2010s marked a period of rapid advancement in quantum hardware and the establishment of several quantum computing companies:\n",
      "\n",
      "- **Emergence of Quantum Startups**: Companies like IBM, Google, Rigetti, and D-Wave began to develop and commercialize quantum computing technologies, producing prototype quantum processors and exploring cloud-based quantum computing services.\n",
      "\n",
      "- **Quantum Supremacy**: In 2019, Google claimed to achieve \"quantum supremacy,\" demonstrating that their 53-qubit quantum processor, Sycamore, could perform a specific calculation faster than the most powerful classical supercomputers.\n",
      "\n",
      "### 6. Current Developments and Future Prospects (2020s)\n",
      "As of the early 2020s, quantum computing continues to evolve, with ongoing research aimed at scaling qubits, improving error rates, and developing practical applications in fields such as cryptography, materials science, and optimization problems.\n",
      "\n",
      "- **Hybrid Approaches**: Researchers are exploring hybrid approaches that combine classical and quantum computing to tackle real-world problems.\n",
      "\n",
      "- **Quantum Software Ecosystem**: The development of programming languages and frameworks for quantum computing, such as Qiskit (IBM) and Cirq (Google), is also expanding, enabling more researchers and developers to work with quantum systems.\n",
      "\n",
      "### Conclusion\n",
      "Quantum computing represents a paradigm shift in computational capability, and its history reflects a blend of theoretical breakthroughs and experimental innovations. While still in its infancy, the field holds tremendous potential for solving complex problems that are currently intractable for classical computers. As research continues, quantum computing could revolutionize various industries and scientific fields.\n"
     ]
    }
   ],
   "source": [
    "print(response.content)"
   ]
  }
 ],
 "metadata": {
  "kernelspec": {
   "display_name": "venv",
   "language": "python",
   "name": "python3"
  },
  "language_info": {
   "codemirror_mode": {
    "name": "ipython",
    "version": 3
   },
   "file_extension": ".py",
   "mimetype": "text/x-python",
   "name": "python",
   "nbconvert_exporter": "python",
   "pygments_lexer": "ipython3",
   "version": "3.12.0"
  }
 },
 "nbformat": 4,
 "nbformat_minor": 2
}
